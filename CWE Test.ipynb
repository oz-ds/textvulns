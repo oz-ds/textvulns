{
 "cells": [
  {
   "cell_type": "markdown",
   "metadata": {},
   "source": [
    "# Prediction of CWE"
   ]
  },
  {
   "cell_type": "code",
   "execution_count": 1,
   "metadata": {},
   "outputs": [
    {
     "name": "stdout",
     "output_type": "stream",
     "text": [
      "Vulnerability descriptions: 32963\n",
      "Vulnerable product names:9176\n",
      "data: 32963\n"
     ]
    }
   ],
   "source": [
    "from sklearn.utils import shuffle\n",
    "import vulns_common\n",
    "\n",
    "vulns_common.download_nvd_vulns_json()\n",
    "nvd_vulns = vulns_common.load_nvd_vulns_json('data/nvdcve-1.0*.json')\n",
    "print('Vulnerability descriptions: ' + str(len(nvd_vulns)))\n",
    "cpe_names = vulns_common.compile_cpe_names(nvd_vulns)\n",
    "print('Vulnerable product names:'+str(len(cpe_names)))\n",
    "data = shuffle(nvd_vulns)#, n_samples=2000)\n",
    "print('data: ' + str(len(data)))"
   ]
  },
  {
   "cell_type": "code",
   "execution_count": 2,
   "metadata": {},
   "outputs": [
    {
     "data": {
      "text/plain": [
       "['CVE-2018-5518',\n",
       " 'On F5 BIG-IP 13.0.0-13.1.0.5 or 12.0.0-12.1.3.3, malicious root users with access to a VCMP guest can cause a disruption of service on adjacent VCMP guests running on the same host. Exploiting this vulnerability causes the vCMPd process on the adjacent VCMP guest to restart and produce a core file. This issue is only exploitable on a VCMP guest which is operating in \"host-only\" or \"bridged\" mode. VCMP guests which are \"isolated\" are not impacted by this issue and do not provide mechanism to exploit the vulnerability. Guests which are deployed in \"Appliance Mode\" may be impacted however the exploit is not possible from an Appliance Mode guest. To exploit this vulnerability root access on a guest system deployed as \"host-only\" or \"bridged\" mode is required.',\n",
       " 'NVD-CWE-noinfo',\n",
       " 'AV:A/AC:M/Au:S/C:N/I:N/A:P',\n",
       " 2.3,\n",
       " 'CVSS:3.0/AV:A/AC:H/PR:H/UI:N/S:C/C:N/I:N/A:H',\n",
       " 5.4,\n",
       " ['f5',\n",
       "  'big-ip_local_traffic_manager',\n",
       "  'f5',\n",
       "  'big-ip_application_acceleration_manager',\n",
       "  'f5',\n",
       "  'big-ip_advanced_firewall_manager',\n",
       "  'f5',\n",
       "  'big-ip_analytics',\n",
       "  'f5',\n",
       "  'big-ip_access_policy_manager',\n",
       "  'f5',\n",
       "  'big-ip_application_security_manager',\n",
       "  'f5',\n",
       "  'big-ip_edge_gateway',\n",
       "  'f5',\n",
       "  'big-ip_global_traffic_manager',\n",
       "  'f5',\n",
       "  'big-ip_link_controller',\n",
       "  'f5',\n",
       "  'big-ip_policy_enforcement_manager',\n",
       "  'f5',\n",
       "  'big-ip_webaccelerator',\n",
       "  'f5',\n",
       "  'big-ip_websafe',\n",
       "  'f5',\n",
       "  'big-ip_domain_name_system']]"
      ]
     },
     "execution_count": 2,
     "metadata": {},
     "output_type": "execute_result"
    }
   ],
   "source": [
    "data[0]"
   ]
  },
  {
   "cell_type": "code",
   "execution_count": 3,
   "metadata": {},
   "outputs": [
    {
     "data": {
      "text/plain": [
       "{'NVD-CWE-noinfo': 1986,\n",
       " 'CWE-79': 3849,\n",
       " 'CWE-275': 139,\n",
       " 'CWE-94': 296,\n",
       " 'CWE-200': 2254,\n",
       " 'CWE-416': 929,\n",
       " 'CWE-287': 646,\n",
       " 'CWE-125': 1377,\n",
       " 'CWE-119': 2680,\n",
       " 'CWE-74': 257,\n",
       " 'CWE-326': 81,\n",
       " 'CWE-20': 2834,\n",
       " 'CWE-476': 466,\n",
       " 'CWE-772': 117,\n",
       " 'CWE-352': 882,\n",
       " '': 1550,\n",
       " 'CWE-426': 153,\n",
       " 'CWE-285': 102,\n",
       " 'CWE-862': 79,\n",
       " 'CWE-281': 8,\n",
       " 'CWE-502': 187,\n",
       " 'CWE-284': 819,\n",
       " 'CWE-19': 62,\n",
       " 'CWE-320': 47,\n",
       " 'CWE-190': 787,\n",
       " 'CWE-264': 586,\n",
       " 'CWE-400': 422,\n",
       " 'CWE-184': 5,\n",
       " 'CWE-399': 128,\n",
       " 'CWE-732': 293,\n",
       " 'CWE-89': 943,\n",
       " 'CWE-617': 32,\n",
       " 'CWE-77': 365,\n",
       " 'NVD-CWE-Other': 50,\n",
       " 'CWE-191': 30,\n",
       " 'CWE-78': 493,\n",
       " 'CWE-522': 146,\n",
       " 'CWE-312': 61,\n",
       " 'CWE-319': 64,\n",
       " 'CWE-269': 261,\n",
       " 'CWE-787': 558,\n",
       " 'CWE-22': 957,\n",
       " 'CWE-306': 80,\n",
       " 'CWE-295': 200,\n",
       " 'CWE-434': 311,\n",
       " 'CWE-798': 261,\n",
       " 'CWE-665': 30,\n",
       " 'CWE-668': 42,\n",
       " 'CWE-310': 235,\n",
       " 'CWE-693': 43,\n",
       " 'CWE-362': 141,\n",
       " 'CWE-611': 324,\n",
       " 'CWE-415': 108,\n",
       " 'CWE-311': 53,\n",
       " 'CWE-909': 19,\n",
       " 'CWE-209': 20,\n",
       " 'CWE-601': 183,\n",
       " 'CWE-427': 56,\n",
       " 'CWE-918': 154,\n",
       " 'CWE-704': 213,\n",
       " 'CWE-307': 28,\n",
       " 'CWE-327': 43,\n",
       " 'CWE-255': 382,\n",
       " 'CWE-59': 59,\n",
       " 'CWE-425': 18,\n",
       " 'CWE-367': 7,\n",
       " 'CWE-613': 36,\n",
       " 'CWE-384': 112,\n",
       " 'CWE-835': 104,\n",
       " 'CWE-863': 121,\n",
       " 'CWE-404': 52,\n",
       " 'CWE-843': 6,\n",
       " 'CWE-770': 47,\n",
       " 'CWE-93': 14,\n",
       " 'CWE-532': 145,\n",
       " 'CWE-120': 76,\n",
       " 'CWE-345': 37,\n",
       " 'CWE-330': 25,\n",
       " 'CWE-134': 37,\n",
       " 'CWE-254': 194,\n",
       " 'CWE-1188': 24,\n",
       " 'CWE-347': 72,\n",
       " 'CWE-189': 7,\n",
       " 'CWE-116': 9,\n",
       " 'CWE-369': 53,\n",
       " 'CWE-407': 2,\n",
       " 'CWE-669': 8,\n",
       " 'CWE-916': 11,\n",
       " 'CWE-113': 17,\n",
       " 'CWE-276': 60,\n",
       " 'CWE-123': 8,\n",
       " 'CWE-824': 25,\n",
       " 'CWE-1187': 14,\n",
       " 'CWE-754': 34,\n",
       " 'CWE-428': 30,\n",
       " 'CWE-129': 37,\n",
       " 'CWE-388': 33,\n",
       " 'CWE-88': 17,\n",
       " 'CWE-358': 14,\n",
       " 'CWE-755': 32,\n",
       " 'CWE-674': 21,\n",
       " 'CWE-521': 21,\n",
       " 'CWE-494': 9,\n",
       " 'CWE-552': 14,\n",
       " 'CWE-1021': 11,\n",
       " 'CWE-185': 18,\n",
       " 'CWE-681': 2,\n",
       " 'CWE-913': 4,\n",
       " 'CWE-338': 24,\n",
       " 'CWE-682': 14,\n",
       " 'CWE-290': 16,\n",
       " 'CWE-193': 2,\n",
       " 'CWE-838': 1,\n",
       " 'CWE-565': 7,\n",
       " 'CWE-16': 10,\n",
       " 'CWE-436': 2,\n",
       " 'CWE-346': 24,\n",
       " 'CWE-774': 6,\n",
       " 'CWE-640': 39,\n",
       " 'CWE-639': 8,\n",
       " 'CWE-91': 18,\n",
       " 'CWE-203': 21,\n",
       " 'CWE-922': 9,\n",
       " 'CWE-610': 5,\n",
       " 'CWE-834': 6,\n",
       " 'CWE-470': 4,\n",
       " 'CWE-118': 3,\n",
       " 'CWE-90': 4,\n",
       " 'CWE-21': 2,\n",
       " 'CWE-172': 8,\n",
       " 'CWE-297': 3,\n",
       " 'CWE-417': 12,\n",
       " 'CWE-706': 3,\n",
       " 'CWE-294': 5,\n",
       " 'CWE-444': 18,\n",
       " 'CWE-538': 8,\n",
       " 'CWE-924': 2,\n",
       " 'CWE-354': 2,\n",
       " 'CWE-332': 7,\n",
       " 'CWE-335': 1,\n",
       " 'CWE-398': 2,\n",
       " 'CWE-331': 9,\n",
       " 'CWE-178': 2,\n",
       " 'CWE-642': 3,\n",
       " 'CWE-371': 4,\n",
       " 'CWE-829': 10,\n",
       " 'CWE-749': 6,\n",
       " 'CWE-441': 5,\n",
       " 'CWE-943': 1,\n",
       " 'CWE-99': 3,\n",
       " 'CWE-920': 1,\n",
       " 'CWE-216': 3,\n",
       " 'CWE-459': 4,\n",
       " 'CWE-18': 1,\n",
       " 'CWE-273': 3,\n",
       " 'CWE-707': 2,\n",
       " 'CWE-252': 2,\n",
       " 'CWE-471': 2,\n",
       " 'CWE-664': 1,\n",
       " 'CWE-405': 1}"
      ]
     },
     "execution_count": 3,
     "metadata": {},
     "output_type": "execute_result"
    }
   ],
   "source": [
    "deprecated_cwes = [1,3,10,60,63,68,70,71,92,100,101,132,139,169,217,218,225,247,249,292,373,418,423,443,445,458,503,504,505,513,516,517,518,533,534,542,545,592,596,630,631,632,633,634,679,769]\n",
    "cwe_counts = dict()\n",
    "\n",
    "def update_cwe_counts(data_):\n",
    "    counts_ = dict()\n",
    "    for d in data_:\n",
    "        cwe = d[2]\n",
    "        try:\n",
    "            cwe_id = int(cwe[4:len(cwe)])\n",
    "        except:\n",
    "            cwe_id = 0\n",
    "        if cwe_id in deprecated_cwes:\n",
    "            if cwe == 'CWE-534':#This entry has been deprecated because its abstraction was too low-level. See CWE-532.\n",
    "                cwe = 'CWE-532'\n",
    "            if cwe == 'CWE-769':#This entry has been deprecated because it was a duplicate of CWE-774.\n",
    "                cwe = 'CWE-774'\n",
    "        if cwe in counts_.keys():\n",
    "            counts_[cwe] = counts_[cwe] + 1\n",
    "        else:\n",
    "            counts_[cwe] = 1\n",
    "    return counts_\n",
    "cwe_counts = update_cwe_counts(data)\n",
    "cwe_counts"
   ]
  },
  {
   "cell_type": "code",
   "execution_count": 4,
   "metadata": {},
   "outputs": [
    {
     "data": {
      "text/plain": [
       "160"
      ]
     },
     "execution_count": 4,
     "metadata": {},
     "output_type": "execute_result"
    }
   ],
   "source": [
    "len(cwe_counts)"
   ]
  },
  {
   "cell_type": "code",
   "execution_count": 5,
   "metadata": {},
   "outputs": [],
   "source": [
    "vulns_common.download_cwe_csv()\n",
    "f = vulns_common.CweFinder()\n",
    "for i, (k, v) in enumerate(cwe_counts.items()):\n",
    "    cwe = k\n",
    "    if v > 10 or not cwe.startswith('CWE-'):\n",
    "        continue\n",
    "    cwe = cwe[4:len(cwe)]\n",
    "    cwe = f.find_root_cwe(cwe)#finds the root of a requested cwe\n",
    "    if len(cwe) > 0:\n",
    "        cwe = 'CWE-' + cwe\n",
    "        for j, d in enumerate(data):\n",
    "            if d[2] == k:\n",
    "                data[j][2] = cwe\n",
    "cwe_counts = update_cwe_counts(data)"
   ]
  },
  {
   "cell_type": "code",
   "execution_count": 6,
   "metadata": {},
   "outputs": [
    {
     "data": {
      "text/plain": [
       "118"
      ]
     },
     "execution_count": 6,
     "metadata": {},
     "output_type": "execute_result"
    }
   ],
   "source": [
    "len(cwe_counts)"
   ]
  },
  {
   "cell_type": "code",
   "execution_count": 7,
   "metadata": {},
   "outputs": [
    {
     "data": {
      "text/plain": [
       "{'NVD-CWE-noinfo': 1986,\n",
       " 'CWE-79': 3849,\n",
       " 'CWE-275': 139,\n",
       " 'CWE-94': 296,\n",
       " 'CWE-200': 2254,\n",
       " 'CWE-416': 929,\n",
       " 'CWE-287': 646,\n",
       " 'CWE-125': 1377,\n",
       " 'CWE-119': 2680,\n",
       " 'CWE-74': 257,\n",
       " 'CWE-326': 81,\n",
       " 'CWE-20': 2834,\n",
       " 'CWE-476': 466,\n",
       " 'CWE-772': 117,\n",
       " 'CWE-352': 882,\n",
       " '': 1550,\n",
       " 'CWE-426': 153,\n",
       " 'CWE-285': 102,\n",
       " 'CWE-862': 79,\n",
       " 'CWE-693': 76,\n",
       " 'CWE-502': 187,\n",
       " 'CWE-284': 819,\n",
       " 'CWE-19': 62,\n",
       " 'CWE-320': 47,\n",
       " 'CWE-190': 787,\n",
       " 'CWE-264': 586,\n",
       " 'CWE-400': 422,\n",
       " 'CWE-399': 128,\n",
       " 'CWE-732': 293,\n",
       " 'CWE-89': 943,\n",
       " 'CWE-617': 32,\n",
       " 'CWE-77': 365,\n",
       " 'NVD-CWE-Other': 50,\n",
       " 'CWE-191': 30,\n",
       " 'CWE-78': 493,\n",
       " 'CWE-522': 146,\n",
       " 'CWE-312': 61,\n",
       " 'CWE-319': 64,\n",
       " 'CWE-269': 261,\n",
       " 'CWE-787': 558,\n",
       " 'CWE-22': 957,\n",
       " 'CWE-306': 80,\n",
       " 'CWE-295': 200,\n",
       " 'CWE-434': 311,\n",
       " 'CWE-798': 261,\n",
       " 'CWE-665': 30,\n",
       " 'CWE-668': 42,\n",
       " 'CWE-310': 235,\n",
       " 'CWE-362': 141,\n",
       " 'CWE-611': 324,\n",
       " 'CWE-415': 108,\n",
       " 'CWE-311': 53,\n",
       " 'CWE-909': 19,\n",
       " 'CWE-209': 20,\n",
       " 'CWE-601': 183,\n",
       " 'CWE-427': 56,\n",
       " 'CWE-918': 154,\n",
       " 'CWE-704': 213,\n",
       " 'CWE-307': 28,\n",
       " 'CWE-327': 43,\n",
       " 'CWE-255': 382,\n",
       " 'CWE-59': 59,\n",
       " 'CWE-425': 18,\n",
       " 'CWE-691': 13,\n",
       " 'CWE-613': 36,\n",
       " 'CWE-384': 112,\n",
       " 'CWE-835': 104,\n",
       " 'CWE-863': 121,\n",
       " 'CWE-404': 52,\n",
       " 'CWE-664': 106,\n",
       " 'CWE-770': 47,\n",
       " 'CWE-93': 14,\n",
       " 'CWE-532': 145,\n",
       " 'CWE-120': 76,\n",
       " 'CWE-345': 37,\n",
       " 'CWE-330': 42,\n",
       " 'CWE-134': 37,\n",
       " 'CWE-254': 194,\n",
       " 'CWE-1188': 24,\n",
       " 'CWE-347': 72,\n",
       " 'CWE-189': 7,\n",
       " 'CWE-707': 28,\n",
       " 'CWE-369': 53,\n",
       " 'CWE-916': 11,\n",
       " 'CWE-113': 17,\n",
       " 'CWE-276': 60,\n",
       " 'CWE-118': 11,\n",
       " 'CWE-824': 25,\n",
       " 'CWE-1187': 14,\n",
       " 'CWE-754': 34,\n",
       " 'CWE-428': 30,\n",
       " 'CWE-129': 37,\n",
       " 'CWE-388': 33,\n",
       " 'CWE-88': 17,\n",
       " 'CWE-358': 14,\n",
       " 'CWE-755': 32,\n",
       " 'CWE-674': 21,\n",
       " 'CWE-521': 21,\n",
       " 'CWE-552': 14,\n",
       " 'CWE-1021': 11,\n",
       " 'CWE-185': 18,\n",
       " 'CWE-338': 24,\n",
       " 'CWE-682': 16,\n",
       " 'CWE-290': 16,\n",
       " 'CWE-16': 10,\n",
       " 'CWE-435': 2,\n",
       " 'CWE-346': 24,\n",
       " 'CWE-774': 5,\n",
       " 'CWE-640': 39,\n",
       " 'CWE-91': 18,\n",
       " 'CWE-203': 21,\n",
       " 'CWE-21': 2,\n",
       " 'CWE-417': 12,\n",
       " 'CWE-444': 18,\n",
       " 'CWE-398': 2,\n",
       " 'CWE-371': 4,\n",
       " 'CWE-18': 1,\n",
       " 'CWE-703': 5}"
      ]
     },
     "execution_count": 7,
     "metadata": {},
     "output_type": "execute_result"
    }
   ],
   "source": [
    "cwe_counts"
   ]
  },
  {
   "cell_type": "code",
   "execution_count": 8,
   "metadata": {},
   "outputs": [],
   "source": [
    "cwes_to_remove = []\n",
    "for i, (k, v) in enumerate(cwe_counts.items()):\n",
    "    if v < 10:# or not k.startswith('CWE-'):\n",
    "        cwes_to_remove.append(k)\n",
    "\n",
    "for i, d in enumerate(data):\n",
    "    if d[2] in cwes_to_remove:\n",
    "        data[i][2] = 'Unknown'\n",
    "\n",
    "cwe_counts = update_cwe_counts(data)"
   ]
  },
  {
   "cell_type": "code",
   "execution_count": 9,
   "metadata": {},
   "outputs": [
    {
     "data": {
      "text/plain": [
       "{'NVD-CWE-noinfo': 1986,\n",
       " 'CWE-79': 3849,\n",
       " 'CWE-275': 139,\n",
       " 'CWE-94': 296,\n",
       " 'CWE-200': 2254,\n",
       " 'CWE-416': 929,\n",
       " 'CWE-287': 646,\n",
       " 'CWE-125': 1377,\n",
       " 'CWE-119': 2680,\n",
       " 'CWE-74': 257,\n",
       " 'CWE-326': 81,\n",
       " 'CWE-20': 2834,\n",
       " 'CWE-476': 466,\n",
       " 'CWE-772': 117,\n",
       " 'CWE-352': 882,\n",
       " '': 1550,\n",
       " 'CWE-426': 153,\n",
       " 'CWE-285': 102,\n",
       " 'CWE-862': 79,\n",
       " 'CWE-693': 76,\n",
       " 'CWE-502': 187,\n",
       " 'CWE-284': 819,\n",
       " 'CWE-19': 62,\n",
       " 'CWE-320': 47,\n",
       " 'CWE-190': 787,\n",
       " 'CWE-264': 586,\n",
       " 'CWE-400': 422,\n",
       " 'CWE-399': 128,\n",
       " 'CWE-732': 293,\n",
       " 'CWE-89': 943,\n",
       " 'CWE-617': 32,\n",
       " 'CWE-77': 365,\n",
       " 'NVD-CWE-Other': 50,\n",
       " 'CWE-191': 30,\n",
       " 'CWE-78': 493,\n",
       " 'CWE-522': 146,\n",
       " 'CWE-312': 61,\n",
       " 'CWE-319': 64,\n",
       " 'CWE-269': 261,\n",
       " 'CWE-787': 558,\n",
       " 'CWE-22': 957,\n",
       " 'CWE-306': 80,\n",
       " 'CWE-295': 200,\n",
       " 'CWE-434': 311,\n",
       " 'CWE-798': 261,\n",
       " 'CWE-665': 30,\n",
       " 'CWE-668': 42,\n",
       " 'CWE-310': 235,\n",
       " 'CWE-362': 141,\n",
       " 'CWE-611': 324,\n",
       " 'CWE-415': 108,\n",
       " 'CWE-311': 53,\n",
       " 'CWE-909': 19,\n",
       " 'CWE-209': 20,\n",
       " 'CWE-601': 183,\n",
       " 'CWE-427': 56,\n",
       " 'CWE-918': 154,\n",
       " 'CWE-704': 213,\n",
       " 'CWE-307': 28,\n",
       " 'CWE-327': 43,\n",
       " 'CWE-255': 382,\n",
       " 'CWE-59': 59,\n",
       " 'CWE-425': 18,\n",
       " 'CWE-691': 13,\n",
       " 'CWE-613': 36,\n",
       " 'CWE-384': 112,\n",
       " 'CWE-835': 104,\n",
       " 'CWE-863': 121,\n",
       " 'CWE-404': 52,\n",
       " 'CWE-664': 106,\n",
       " 'CWE-770': 47,\n",
       " 'CWE-93': 14,\n",
       " 'CWE-532': 145,\n",
       " 'CWE-120': 76,\n",
       " 'CWE-345': 37,\n",
       " 'CWE-330': 42,\n",
       " 'CWE-134': 37,\n",
       " 'CWE-254': 194,\n",
       " 'CWE-1188': 24,\n",
       " 'CWE-347': 72,\n",
       " 'Unknown': 23,\n",
       " 'CWE-707': 28,\n",
       " 'CWE-369': 53,\n",
       " 'CWE-916': 11,\n",
       " 'CWE-113': 17,\n",
       " 'CWE-276': 60,\n",
       " 'CWE-118': 11,\n",
       " 'CWE-824': 25,\n",
       " 'CWE-1187': 14,\n",
       " 'CWE-754': 34,\n",
       " 'CWE-428': 30,\n",
       " 'CWE-129': 37,\n",
       " 'CWE-388': 33,\n",
       " 'CWE-88': 17,\n",
       " 'CWE-358': 14,\n",
       " 'CWE-755': 32,\n",
       " 'CWE-674': 21,\n",
       " 'CWE-521': 21,\n",
       " 'CWE-552': 14,\n",
       " 'CWE-1021': 11,\n",
       " 'CWE-185': 18,\n",
       " 'CWE-338': 24,\n",
       " 'CWE-682': 16,\n",
       " 'CWE-290': 16,\n",
       " 'CWE-16': 10,\n",
       " 'CWE-346': 24,\n",
       " 'CWE-774': 5,\n",
       " 'CWE-640': 39,\n",
       " 'CWE-91': 18,\n",
       " 'CWE-203': 21,\n",
       " 'CWE-417': 12,\n",
       " 'CWE-444': 18}"
      ]
     },
     "execution_count": 9,
     "metadata": {},
     "output_type": "execute_result"
    }
   ],
   "source": [
    "cwe_counts"
   ]
  },
  {
   "cell_type": "code",
   "execution_count": 10,
   "metadata": {},
   "outputs": [
    {
     "data": {
      "text/plain": [
       "112"
      ]
     },
     "execution_count": 10,
     "metadata": {},
     "output_type": "execute_result"
    }
   ],
   "source": [
    "len(cwe_counts)"
   ]
  },
  {
   "cell_type": "code",
   "execution_count": 11,
   "metadata": {},
   "outputs": [],
   "source": [
    "## Handling the class imbalance"
   ]
  },
  {
   "cell_type": "code",
   "execution_count": 12,
   "metadata": {},
   "outputs": [
    {
     "name": "stdout",
     "output_type": "stream",
     "text": [
      "29394\n"
     ]
    }
   ],
   "source": [
    "from sklearn.utils import resample\n",
    "import pandas as pd\n",
    "\n",
    "def sample_cwe(data_, max_samples):\n",
    "    df = pd.DataFrame(data_)\n",
    "    df = df.drop([0,3,4,5,6,7], axis=1)\n",
    "    df = df.drop(df[df[2] == 'Unknown'].index)\n",
    "    df = df.drop(df[df[2] == 'NVD-CWE-noinfo'].index)\n",
    "    df = df.drop(df[df[2] == ''].index)\n",
    "    df = df.rename(index=str, columns={1: 'text', 2: 'label'})\n",
    "\n",
    "    cwe_counts = update_cwe_counts(data_)\n",
    "    cwe_texts = pd.DataFrame()\n",
    "\n",
    "    #print('Max samples: '+ str(max_samples))\n",
    "    for i, (k, v) in enumerate(cwe_counts.items()):\n",
    "        if k == '' or k == 'Unknown' or k == 'NVD-CWE-noinfo':\n",
    "            continue\n",
    "        if v > max_samples:\n",
    "            resampled = resample(df[df['label'] == k], replace=False, n_samples=max_samples)\n",
    "            #print('Downsampling: '+k)\n",
    "        else:\n",
    "            resampled = df[df['label'] == k]\n",
    "        cwe_texts = pd.concat([cwe_texts, resampled])\n",
    "\n",
    "    return shuffle(cwe_texts)\n",
    "\n",
    "cwe_texts = sample_cwe(data, 1000000)\n",
    "print(len(cwe_texts))"
   ]
  },
  {
   "cell_type": "code",
   "execution_count": 13,
   "metadata": {},
   "outputs": [
    {
     "data": {
      "text/html": [
       "<div>\n",
       "<style scoped>\n",
       "    .dataframe tbody tr th:only-of-type {\n",
       "        vertical-align: middle;\n",
       "    }\n",
       "\n",
       "    .dataframe tbody tr th {\n",
       "        vertical-align: top;\n",
       "    }\n",
       "\n",
       "    .dataframe thead th {\n",
       "        text-align: right;\n",
       "    }\n",
       "</style>\n",
       "<table border=\"1\" class=\"dataframe\">\n",
       "  <thead>\n",
       "    <tr style=\"text-align: right;\">\n",
       "      <th></th>\n",
       "      <th>text</th>\n",
       "      <th>label</th>\n",
       "    </tr>\n",
       "  </thead>\n",
       "  <tbody>\n",
       "    <tr>\n",
       "      <td>16152</td>\n",
       "      <td>A malicious authenticated user may be able to ...</td>\n",
       "      <td>CWE-284</td>\n",
       "    </tr>\n",
       "    <tr>\n",
       "      <td>25350</td>\n",
       "      <td>A vulnerability in the web-based management in...</td>\n",
       "      <td>CWE-79</td>\n",
       "    </tr>\n",
       "    <tr>\n",
       "      <td>29022</td>\n",
       "      <td>GNOME Evolution through 3.28.2 is prone to Ope...</td>\n",
       "      <td>CWE-347</td>\n",
       "    </tr>\n",
       "    <tr>\n",
       "      <td>9027</td>\n",
       "      <td>This vulnerability allows remote attackers to ...</td>\n",
       "      <td>CWE-416</td>\n",
       "    </tr>\n",
       "    <tr>\n",
       "      <td>4834</td>\n",
       "      <td>Dell EMC Enterprise Copy Data Management (eCDM...</td>\n",
       "      <td>CWE-295</td>\n",
       "    </tr>\n",
       "    <tr>\n",
       "      <td>1990</td>\n",
       "      <td>In firmware version MS_2.6.9900 of Columbia We...</td>\n",
       "      <td>CWE-79</td>\n",
       "    </tr>\n",
       "    <tr>\n",
       "      <td>3824</td>\n",
       "      <td>Reflected XSS on Micro Focus Enterprise Develo...</td>\n",
       "      <td>CWE-79</td>\n",
       "    </tr>\n",
       "    <tr>\n",
       "      <td>24330</td>\n",
       "      <td>A Cross-site Scripting (XSS) vulnerability exi...</td>\n",
       "      <td>CWE-79</td>\n",
       "    </tr>\n",
       "    <tr>\n",
       "      <td>1811</td>\n",
       "      <td>A shell escape vulnerability in /webconsole/Co...</td>\n",
       "      <td>CWE-78</td>\n",
       "    </tr>\n",
       "    <tr>\n",
       "      <td>20342</td>\n",
       "      <td>An XSS issue was discovered in the checklist p...</td>\n",
       "      <td>CWE-79</td>\n",
       "    </tr>\n",
       "  </tbody>\n",
       "</table>\n",
       "</div>"
      ],
      "text/plain": [
       "                                                    text    label\n",
       "16152  A malicious authenticated user may be able to ...  CWE-284\n",
       "25350  A vulnerability in the web-based management in...   CWE-79\n",
       "29022  GNOME Evolution through 3.28.2 is prone to Ope...  CWE-347\n",
       "9027   This vulnerability allows remote attackers to ...  CWE-416\n",
       "4834   Dell EMC Enterprise Copy Data Management (eCDM...  CWE-295\n",
       "1990   In firmware version MS_2.6.9900 of Columbia We...   CWE-79\n",
       "3824   Reflected XSS on Micro Focus Enterprise Develo...   CWE-79\n",
       "24330  A Cross-site Scripting (XSS) vulnerability exi...   CWE-79\n",
       "1811   A shell escape vulnerability in /webconsole/Co...   CWE-78\n",
       "20342  An XSS issue was discovered in the checklist p...   CWE-79"
      ]
     },
     "execution_count": 13,
     "metadata": {},
     "output_type": "execute_result"
    }
   ],
   "source": [
    "cwe_texts.head(10)"
   ]
  },
  {
   "cell_type": "code",
   "execution_count": 14,
   "metadata": {},
   "outputs": [],
   "source": [
    "## classification with classifiers suggested https://scikit-learn.org/stable/tutorial/machine_learning_map/index.html"
   ]
  },
  {
   "cell_type": "code",
   "execution_count": 15,
   "metadata": {
    "scrolled": true
   },
   "outputs": [
    {
     "name": "stdout",
     "output_type": "stream",
     "text": [
      "LinearSVC(C=1.0, class_weight=None, dual=True, fit_intercept=True,\n",
      "     intercept_scaling=1, loss='squared_hinge', max_iter=1000,\n",
      "     multi_class='ovr', penalty='l2', random_state=None, tol=0.0001,\n",
      "     verbose=0)\n",
      "\n",
      "10-fold cross validated f1-score for CWE:0.843\n",
      "Time taken: 231.1s\n",
      "\n"
     ]
    }
   ],
   "source": [
    "from sklearn.model_selection import cross_val_score\n",
    "from sklearn.feature_extraction.text import CountVectorizer\n",
    "from sklearn.feature_extraction.text import TfidfVectorizer\n",
    "from sklearn.pipeline import Pipeline\n",
    "from nltk.stem import WordNetLemmatizer\n",
    "from nltk.stem.snowball import SnowballStemmer\n",
    "from sklearn.naive_bayes import MultinomialNB\n",
    "from sklearn.linear_model import SGDClassifier\n",
    "from sklearn.svm import LinearSVC\n",
    "from sklearn.neighbors import KNeighborsClassifier\n",
    "from sklearn.feature_extraction import text\n",
    "import numpy as np\n",
    "import time\n",
    "\n",
    "class StemmedCountVectorizer(CountVectorizer):\n",
    "    def build_analyzer(self):\n",
    "        self.stemmer = SnowballStemmer(\"english\")\n",
    "        analyzer = super(CountVectorizer, self).build_analyzer()\n",
    "        return lambda doc: (analyzer(' '.join([self.stemmer.stem(word) for word in doc.split(' ')])))\n",
    "\n",
    "class StemmedTfidfVectorizer(TfidfVectorizer):\n",
    "    def build_analyzer(self):\n",
    "        self.stemmer = SnowballStemmer(\"english\")\n",
    "        analyzer = super(TfidfVectorizer, self).build_analyzer()\n",
    "        return lambda doc: (analyzer(' '.join([self.stemmer.stem(word) for word in doc.split(' ')])))\n",
    "\n",
    "class LemmaCountVectorizer(CountVectorizer):\n",
    "    def build_analyzer(self):\n",
    "        self.stemmer = WordNetLemmatizer()\n",
    "        analyzer = super(CountVectorizer, self).build_analyzer()\n",
    "        return lambda doc: (analyzer(' '.join([self.stemmer.lemmatize(word) for word in doc.split(' ')])))    \n",
    "\n",
    "class LemmaTfidfVectorizer(TfidfVectorizer):\n",
    "    def build_analyzer(self):\n",
    "        self.stemmer = WordNetLemmatizer()\n",
    "        analyzer = super(TfidfVectorizer, self).build_analyzer()\n",
    "        return lambda doc: (analyzer(' '.join([self.stemmer.lemmatize(word) for word in doc.split(' ')])))    \n",
    "\n",
    "unwanted_words = ['issue','defect','bug','fault','flaw','mistake','error','version','system','because','before','disputed']\n",
    "stop_words = text.ENGLISH_STOP_WORDS#.union(cpe_names)\n",
    "stop_words = stop_words.union(unwanted_words)\n",
    "\n",
    "vectorizer = TfidfVectorizer(stop_words=stop_words,\n",
    "                             lowercase=True,\n",
    "                             ngram_range=(1, 2), \n",
    "                             min_df=1,\n",
    "                             token_pattern=r'(?u)\\b\\w*[a-zA-Z]{3,}\\w*\\b')\n",
    "\n",
    "classifiers = [\n",
    "               #MultinomialNB(),\n",
    "               #SGDClassifier(tol=1e-3, shuffle=True),\n",
    "               LinearSVC(),#dual=False, max_iter=2000, class_weight='balanced'\n",
    "               #KNeighborsClassifier()\n",
    "              ]\n",
    "\n",
    "nfold = 10\n",
    "\n",
    "for classifier in classifiers:\n",
    "    t = time.time()\n",
    "    print(str(classifier)+'\\n')\n",
    "    pipe = Pipeline([('vect', vectorizer), ('cls', classifier)])\n",
    "    scores = []\n",
    "    scores = cross_val_score(pipe, cwe_texts['text'], cwe_texts['label'], cv=nfold, scoring=\"f1_micro\")\n",
    "\n",
    "    print(str(nfold)+'-fold cross validated f1-score for CWE:' + str(round(np.mean(scores),3)))\n",
    "    elapsed_time = time.time() - t\n",
    "    print('Time taken: ' + str(round(elapsed_time, 1)) + 's\\n')"
   ]
  },
  {
   "cell_type": "code",
   "execution_count": 16,
   "metadata": {},
   "outputs": [
    {
     "name": "stdout",
     "output_type": "stream",
     "text": [
      "Vectors shape:(29394, 211444)\n"
     ]
    }
   ],
   "source": [
    "# See the amount of features\n",
    "pipe = Pipeline([('vect', vectorizer), ('cls', LinearSVC())])\n",
    "pipe.fit(cwe_texts['text'], cwe_texts['label'])\n",
    "vectors = vectorizer.transform(cwe_texts['text'])\n",
    "print(\"Vectors shape:\" + str(vectors.shape))\n",
    "#vectorizer.vocabulary_"
   ]
  },
  {
   "cell_type": "code",
   "execution_count": 17,
   "metadata": {},
   "outputs": [],
   "source": [
    "# Test prediction of CWE on a security related bug report"
   ]
  },
  {
   "cell_type": "code",
   "execution_count": 18,
   "metadata": {},
   "outputs": [],
   "source": [
    "import pandas as pd\n",
    "import random\n",
    "\n",
    "reports = pd.read_excel('data/sec_issues_edit.xlsx')\n",
    "reports = reports.loc[(reports['security']==1)]\n",
    "reports['security'] = reports['security'].values.astype(bool)\n",
    "reports['report'] = reports['report'].values.astype(str)\n",
    "i = random.randint(0, len(reports)-1)\n",
    "random_report = reports.iloc[i]['report']"
   ]
  },
  {
   "cell_type": "code",
   "execution_count": 19,
   "metadata": {},
   "outputs": [
    {
     "name": "stdout",
     "output_type": "stream",
     "text": [
      "Login page password-guessing attack A common threat web developers face is a password-guessing attack known as a brute force attack. A brute-force attack is an attempt to discover a password by systematically trying every possible combination of letters, numbers, and symbols until you discover the one correct combination that works. \n",
      "\n",
      "This login page doesn't have any protection against password-guessing attacks (brute force attacks). It's recommended to implement some type of account lockout after a defined number of incorrect password attempts. Consult Web references for more information about fixing this problem.\n"
     ]
    },
    {
     "data": {
      "text/plain": [
       "'CWE-307'"
      ]
     },
     "execution_count": 19,
     "metadata": {},
     "output_type": "execute_result"
    }
   ],
   "source": [
    "print(random_report)\n",
    "predicted = pipe.predict([random_report])\n",
    "cwe_id = predicted[0]\n",
    "cwe_id"
   ]
  },
  {
   "cell_type": "code",
   "execution_count": 20,
   "metadata": {},
   "outputs": [],
   "source": [
    "## https://cwe.mitre.org/data/definitions/307.html"
   ]
  },
  {
   "cell_type": "code",
   "execution_count": 21,
   "metadata": {},
   "outputs": [],
   "source": [
    "## Classifier hyperparameter tuning"
   ]
  },
  {
   "cell_type": "code",
   "execution_count": 22,
   "metadata": {},
   "outputs": [
    {
     "name": "stderr",
     "output_type": "stream",
     "text": [
      "C:\\Users\\ossi.jormakka\\AppData\\Local\\Continuum\\anaconda3\\lib\\site-packages\\sklearn\\svm\\base.py:922: ConvergenceWarning: Liblinear failed to converge, increase the number of iterations.\n",
      "  \"the number of iterations.\", ConvergenceWarning)\n",
      "C:\\Users\\ossi.jormakka\\AppData\\Local\\Continuum\\anaconda3\\lib\\site-packages\\sklearn\\model_selection\\_validation.py:559: FitFailedWarning: Estimator fit failed. The score on this train-test partition for these parameters will be set to nan. Details: \n",
      "ValueError: Unsupported set of arguments: The combination of penalty='l2' and loss='hinge' are not supported when dual=False, Parameters: penalty='l2', loss='hinge', dual=False\n",
      "\n",
      "  FitFailedWarning)\n",
      "C:\\Users\\ossi.jormakka\\AppData\\Local\\Continuum\\anaconda3\\lib\\site-packages\\sklearn\\model_selection\\_search.py:841: DeprecationWarning: The default of the `iid` parameter will change from True to False in version 0.22 and will be removed in 0.24. This will change numeric results when test-set sizes are unequal.\n",
      "  DeprecationWarning)\n"
     ]
    },
    {
     "name": "stdout",
     "output_type": "stream",
     "text": [
      "0.680466472303207\n",
      "{'cls__dual': True, 'cls__loss': 'squared_hinge', 'cls__max_iter': 1000, 'cls__multi_class': 'crammer_singer'}\n"
     ]
    }
   ],
   "source": [
    "from sklearn.model_selection import GridSearchCV\n",
    "classifier = LinearSVC()#class_weight='balanced'\n",
    "pipe = Pipeline([('vect', vectorizer), ('cls', classifier)])\n",
    "#hyperparameters\n",
    "parameters = {'cls__loss': ('hinge', 'squared_hinge'),#default: squared_hinge\n",
    "              'cls__dual': (True, False),#default: True\n",
    "              'cls__multi_class': ('ovr', 'crammer_singer'),#default: ovr\n",
    "              'cls__max_iter': (1000, 2000),#default: 1000\n",
    "             }\n",
    "gs = GridSearchCV(pipe, parameters, scoring='f1_micro', cv=10, error_score=np.nan)\n",
    "\n",
    "gs = gs.fit(cwe_texts['text'], cwe_texts['label'])\n",
    "print(gs.best_score_)\n",
    "print(gs.best_params_)"
   ]
  },
  {
   "cell_type": "code",
   "execution_count": 38,
   "metadata": {},
   "outputs": [],
   "source": [
    "## Find optimal dataset size to fit the classifier"
   ]
  },
  {
   "cell_type": "code",
   "execution_count": 70,
   "metadata": {},
   "outputs": [
    {
     "name": "stdout",
     "output_type": "stream",
     "text": [
      "data: 18755\n",
      "100: 0.7225778783085111\n",
      "200: 0.7460082925565177\n",
      "500: 0.7879766200427929\n",
      "1000: 0.7963461284982685\n",
      "2000: 0.8086168524166265\n",
      "3000: 0.8096809318170927\n",
      "4000: 0.8134996216226391\n",
      "5000: 0.8108861222441972\n",
      "6000: 0.8131727804448643\n",
      "8000: 0.8123744513611921\n",
      "10000: 0.8129660682205431\n",
      "12000: 0.8099118221644698\n",
      "14000: 0.8125795139157079\n"
     ]
    }
   ],
   "source": [
    "sample_sizes = [100, 200, 500, 1000, 2000, 3000, 4000, 5000, 6000, 8000, 10000, 12000, 14000]\n",
    "\n",
    "data = shuffle(nvd_vulns)\n",
    "print('data: ' + str(len(data)))\n",
    "\n",
    "results = []\n",
    "for size in sample_sizes:\n",
    "    samples = sample_cwe(data, size)\n",
    "    score = cross_val_score(pipe, samples['text'], samples['label'], cv=10, scoring=\"f1_micro\")\n",
    "    score = np.mean(score)\n",
    "    results.append(score)\n",
    "    print(str(size) + ': ' + str(score))"
   ]
  }
 ],
 "metadata": {
  "kernelspec": {
   "display_name": "Python 3",
   "language": "python",
   "name": "python3"
  },
  "language_info": {
   "codemirror_mode": {
    "name": "ipython",
    "version": 3
   },
   "file_extension": ".py",
   "mimetype": "text/x-python",
   "name": "python",
   "nbconvert_exporter": "python",
   "pygments_lexer": "ipython3",
   "version": "3.7.4"
  }
 },
 "nbformat": 4,
 "nbformat_minor": 2
}
